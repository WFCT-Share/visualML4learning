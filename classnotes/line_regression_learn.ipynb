{
 "cells": [
  {
   "cell_type": "markdown",
   "source": [
    "回归(regression)是一种监督算法"
   ],
   "metadata": {
    "collapsed": false
   },
   "id": "b0906c5cfc261e91"
  },
  {
   "cell_type": "code",
   "execution_count": null,
   "id": "initial_id",
   "metadata": {
    "collapsed": true
   },
   "outputs": [],
   "source": []
  },
  {
   "cell_type": "markdown",
   "source": [
    "#### 线性回归的基本公式：\n",
    "一元线性回归： $ y = \\beta_0 + \\beta_1x + \\epsilon  $\n",
    "$\\epsilon 为误差项$\n",
    "多元线性回归： $ y = \\beta_0 +k_1x +k_2x +b $"
   ],
   "metadata": {
    "collapsed": false
   },
   "id": "f9b08b4f2288daf3"
  },
  {
   "cell_type": "code",
   "execution_count": null,
   "outputs": [],
   "source": [],
   "metadata": {
    "collapsed": false
   },
   "id": "bc72b5bf3d224bdd"
  },
  {
   "cell_type": "markdown",
   "source": [
    "#### 最小二乘法实现一元线性回归\n",
    "基本公式："
   ],
   "metadata": {
    "collapsed": false
   },
   "id": "dfb1c5f76c3f4f20"
  },
  {
   "cell_type": "code",
   "execution_count": 6,
   "outputs": [
    {
     "name": "stdout",
     "output_type": "stream",
     "text": [
      "价格为55时的预测值为: 2.976614881439084\n",
      "误差项为: 0.2466475878986101\n"
     ]
    }
   ],
   "source": [
    "import numpy as np\n",
    "\n",
    "def least_squares_method(X, Y):\n",
    "    # 计算系数beta1\n",
    "    beta1 = np.sum((X - np.mean(X)) * (Y - np.mean(Y))) / np.sum((X - np.mean(X))**2)\n",
    "    # 计算截距beta0\n",
    "    beta0 = np.mean(Y) - beta1 * np.mean(X)\n",
    "\n",
    "    # 计算误差平方和\n",
    "    epsilon_list = 0.5 * (beta0 + beta1 * X - Y)**2\n",
    "    epsilon = np.sum(epsilon_list)\n",
    "\n",
    "    # 返回一个用于预测新x值的函数\n",
    "    def f(x):\n",
    "        return beta0 + beta1 * x\n",
    "\n",
    "    return f, epsilon\n",
    "\n",
    "# 示例数据\n",
    "X = np.array([10, 15, 20, 30, 50, 60, 60, 70])\n",
    "Y = np.array([0.8, 1, 1.8, 2, 3.2, 3, 3.1, 3.5])\n",
    "\n",
    "func, theta = least_squares_method(X, Y)\n",
    "print(f\"价格为55时的预测值为: {func(55)}\")\n",
    "print(f\"误差项为: {theta}\")"
   ],
   "metadata": {
    "collapsed": false,
    "ExecuteTime": {
     "end_time": "2024-05-25T02:53:52.514072400Z",
     "start_time": "2024-05-25T02:53:52.492414400Z"
    }
   },
   "id": "71fdcef68d17001c"
  },
  {
   "cell_type": "markdown",
   "source": [
    "### 回归模型中的代价函数\n",
    " $$ J(\\theta) = \\sum_{m}^{i=1}(h_{\\theta}(x^{(i)}) - y^{(i)}))^2 $$"
   ],
   "metadata": {
    "collapsed": false
   },
   "id": "1faf64729f7ba21b"
  },
  {
   "cell_type": "code",
   "execution_count": null,
   "outputs": [],
   "source": [
    "def LQM4matrix(X, Y):\n",
    "    return \n",
    "    "
   ],
   "metadata": {
    "collapsed": false
   },
   "id": "4e4bd2630f641a32"
  },
  {
   "cell_type": "code",
   "execution_count": 9,
   "outputs": [
    {
     "data": {
      "text/plain": "<Figure size 640x480 with 1 Axes>",
      "image/png": "[encoded data removed]"
     },
     "metadata": {},
     "output_type": "display_data"
    }
   ],
   "source": [
    "import matplotlib.pyplot as plt\n",
    "\n",
    "\"\"\"设置字符集防止乱码问题\"\"\"\n",
    "plt.rcParams['font.sans-serif'] = [u'simHei']\n",
    "plt.rcParams['axes.unicode_minus'] = False\n",
    "\n",
    "\n",
    "x = np.linspace(-10, 10, 400)  # 生成从-10到10的400个点\n",
    "y = func(x)  # 计算对应的y值\n",
    "\n",
    "# 绘制图形\n",
    "plt.plot(x, y, label='房价')\n",
    "plt.xlabel('x')\n",
    "plt.ylabel('y')\n",
    "plt.title('预测房价')\n",
    "plt.legend()\n",
    "plt.grid(True)\n",
    "plt.show()"
   ],
   "metadata": {
    "collapsed": false,
    "ExecuteTime": {
     "end_time": "2024-05-25T03:16:44.207632500Z",
     "start_time": "2024-05-25T03:16:44.090105Z"
    }
   },
   "id": "281f0d2fa399e4a0"
  },
  {
   "cell_type": "code",
   "execution_count": null,
   "outputs": [],
   "source": [],
   "metadata": {
    "collapsed": false
   },
   "id": "8aab0823b63bb7b1"
  },
  {
   "cell_type": "markdown",
   "source": [
    "### 正则惩罚项\n",
    "$$ \\lambda\\sum_n^{i=1}\\theta_j   (\\lambda > 0) $$\n",
    "\n",
    "### ridge回归\n",
    "$$ J(\\theta) = \\sum_{m}^{i=1}(h_{\\theta}(x^{(i)}) - y^{(i)}))^2 + \\lambda\\sum_n^{i=1}\\theta_j    (\\lambda > 0) $$\n",
    "\n"
   ],
   "metadata": {
    "collapsed": false
   },
   "id": "1e7d69cd03a6bcf0"
  },
  {
   "cell_type": "code",
   "execution_count": null,
   "outputs": [],
   "source": [],
   "metadata": {
    "collapsed": false
   },
   "id": "9a6f6e7c21ad562e"
  },
  {
   "cell_type": "markdown",
   "source": [
    "### Elastic Net\n",
    "$$ J(\\theta) = \\frac{1}{2}\\sum_{m}^{i=1}(h_{\\theta}(x^{(i)- y^{(i)}}))^2 + \\lambda(p\\sum_{n}^{j=1}|(\\theta_j)| + (1-p)\\sum_{n}^{j=1}\\theta_{j}^{2}) $$"
   ],
   "metadata": {
    "collapsed": false
   },
   "id": "b020c217d02d86ac"
  },
  {
   "cell_type": "code",
   "execution_count": null,
   "outputs": [],
   "source": [],
   "metadata": {
    "collapsed": false
   },
   "id": "63beb160716fdade"
  },
  {
   "cell_type": "markdown",
   "source": [
    "#### 梯度下降：优化算法\n",
    "$$ \\theta=\\theta - \\alpha \\cdot \\frac{\\partial J(\\theta)}{\\partial\\theta} $$"
   ],
   "metadata": {
    "collapsed": false
   },
   "id": "6df8b7af712a9baf"
  },
  {
   "cell_type": "markdown",
   "source": [],
   "metadata": {
    "collapsed": false
   },
   "id": "d28675622afed90c"
  },
  {
   "cell_type": "markdown",
   "source": [
    "#### 随机梯度下降(SGD)\n",
    "$$ \\frac{\\partial J(\\theta)}{\\theta_j} = (h_{\\theta}(x) - y)x_j $$\n",
    "\n",
    "$$ \\theta_j = \\theta_j + (\\alpha(y^{(i)} - h_{\\theta}(x^{(i)}) ))x_{j}^{(i)} $$\n"
   ],
   "metadata": {
    "collapsed": false
   },
   "id": "4f37fc256aae6d19"
  },
  {
   "cell_type": "markdown",
   "source": [],
   "metadata": {
    "collapsed": false
   },
   "id": "5c195f473d647cb8"
  },
  {
   "cell_type": "code",
   "execution_count": null,
   "outputs": [],
   "source": [],
   "metadata": {
    "collapsed": false
   },
   "id": "b8ab3f0ce34afd8e"
  },
  {
   "cell_type": "markdown",
   "source": [
    "#### Logistic回归\n",
    "$$ p = \\frac{1}{1 + e^{-\\theta^{\\top}x}} $$\n",
    "\n",
    "Sigmoid函数与其导数的特质：\n",
    "$$ g'(z) = g(z) \\cdot (1-g(z)) $$\n",
    "\n",
    "#### Softmax回归"
   ],
   "metadata": {
    "collapsed": false
   },
   "id": "7a6a87164c2ca8c4"
  },
  {
   "cell_type": "code",
   "execution_count": null,
   "outputs": [],
   "source": [],
   "metadata": {
    "collapsed": false
   },
   "id": "b68faabd798b4038"
  },
  {
   "cell_type": "markdown",
   "source": [],
   "metadata": {
    "collapsed": false
   },
   "id": "fbf33a6252fc4a12"
  },
  {
   "cell_type": "code",
   "execution_count": 12,
   "outputs": [
    {
     "name": "stdout",
     "output_type": "stream",
     "text": [
      "Accuracy: 95.61%\n"
     ]
    }
   ],
   "source": [
    "\"\"\"逻辑回归的示例，使用了乳腺癌威斯康星数据集\"\"\"\n",
    "import pandas as pd\n",
    "from sklearn.model_selection import train_test_split\n",
    "from sklearn.linear_model import LogisticRegression\n",
    "from sklearn.metrics import accuracy_score\n",
    "\n",
    "path = '线性回归学习资料/breast-cancer-wisconsin.data'\n",
    "data = pd.read_csv(path, header=None)\n",
    "\n",
    "# Setting column names based on common WBCD dataset descriptions\n",
    "column_names = [\n",
    "    \"ID\", \"Clump Thickness\", \"Uniformity of Cell Size\", \"Uniformity of Cell Shape\",\n",
    "    \"Marginal Adhesion\", \"Single Epithelial Cell Size\", \"Bare Nuclei\",\n",
    "    \"Bland Chromatin\", \"Normal Nucleoli\", \"Mitoses\", \"Class\"\n",
    "]\n",
    "\n",
    "data.columns = column_names\n",
    "\n",
    "# Checking for missing values (often marked as '?')\n",
    "data.replace('?', pd.NA, inplace=True)\n",
    "\n",
    "# Convert 'Bare Nuclei' to numeric\n",
    "data['Bare Nuclei'] = pd.to_numeric(data['Bare Nuclei'])\n",
    "\n",
    "# Drop rows with any missing values\n",
    "data.dropna(inplace=True)\n",
    "\n",
    "# Convert 'Class' to binary (0 for benign (2), 1 for malignant (4))\n",
    "data['Class'] = data['Class'].map({2: 0, 4: 1})\n",
    "\n",
    "\n",
    "# Features and Labels\n",
    "X = data.drop(['ID', 'Class'], axis=1)\n",
    "y = data['Class']\n",
    "\n",
    "# Splitting the data into train and test sets\n",
    "X_train, X_test, y_train, y_test = train_test_split(X, y, test_size=0.30, random_state=42)\n",
    "\n",
    "# Create an instance of Logistic Regression Classifier and fit the data.\n",
    "logreg = LogisticRegression(max_iter=1000)\n",
    "logreg.fit(X_train, y_train)\n",
    "\n",
    "# Predicting the test set results\n",
    "y_pred = logreg.predict(X_test)\n",
    "\n",
    "# Calculating the accuracy\n",
    "accuracy = accuracy_score(y_test, y_pred)\n",
    "print(f\"Accuracy: {accuracy * 100:.2f}%\")\n"
   ],
   "metadata": {
    "collapsed": false,
    "ExecuteTime": {
     "end_time": "2024-05-25T07:34:14.594533400Z",
     "start_time": "2024-05-25T07:34:14.560219400Z"
    }
   },
   "id": "3aa20aeb265e8e5d"
  },
  {
   "cell_type": "code",
   "execution_count": 17,
   "outputs": [
    {
     "name": "stdout",
     "output_type": "stream",
     "text": [
      "Accuracy: 0.7922705314009661\n",
      "Classification Report:\n",
      "               precision    recall  f1-score   support\n",
      "\n",
      "       False       0.79      0.76      0.77        97\n",
      "        True       0.80      0.82      0.81       110\n",
      "\n",
      "    accuracy                           0.79       207\n",
      "   macro avg       0.79      0.79      0.79       207\n",
      "weighted avg       0.79      0.79      0.79       207\n"
     ]
    }
   ],
   "source": [
    "\"\"\"softmax的应用实例，处理crx混合使用哑变量\"\"\"\n",
    "import pandas as pd\n",
    "from sklearn.model_selection import train_test_split\n",
    "from sklearn.linear_model import LogisticRegression\n",
    "from sklearn.metrics import accuracy_score, classification_report\n",
    "from sklearn.preprocessing import StandardScaler\n",
    "\n",
    "# 加载数据\n",
    "file_path = '线性回归学习资料/crx.data'\n",
    "data = pd.read_csv(file_path, header=None)\n",
    "\n",
    "# 替换 '?' 为 NaN\n",
    "data.replace('?', pd.NA, inplace=True)\n",
    "\n",
    "# 识别类别型特征\n",
    "categorical_features = [col for col in data.columns if data[col].dtype == 'object']\n",
    "\n",
    "# 创建哑变量\n",
    "data_encoded = pd.get_dummies(data, columns=categorical_features, drop_first=True)\n",
    "\n",
    "# 处理数值缺失值，使用中位数填充\n",
    "for col in data_encoded.columns[data_encoded.isna().any()]:\n",
    "    median_value = data_encoded[col].median()\n",
    "    data_encoded[col].fillna(median_value, inplace=True)\n",
    "\n",
    "# 确保所有特征列名都是字符串类型\n",
    "data_encoded.columns = data_encoded.columns.astype(str)\n",
    "\n",
    "# 划分特征和目标变量\n",
    "X = data_encoded.drop(['15_-'], axis=1)\n",
    "y = data_encoded['15_-']\n",
    "\n",
    "# 划分训练集和测试集\n",
    "X_train, X_test, y_train, y_test = train_test_split(X, y, test_size=0.3, random_state=42)\n",
    "\n",
    "# 数据标准化\n",
    "scaler = StandardScaler()\n",
    "X_train_scaled = scaler.fit_transform(X_train)\n",
    "X_test_scaled = scaler.transform(X_test)\n",
    "\n",
    "# 初始化并训练softmax回归模型\n",
    "model = LogisticRegression(max_iter=1000, multi_class='multinomial', solver='lbfgs')\n",
    "model.fit(X_train_scaled, y_train)\n",
    "\n",
    "# 在测试集上进行预测\n",
    "y_pred = model.predict(X_test_scaled)\n",
    "\n",
    "# 计算准确率和其他评估指标\n",
    "accuracy = accuracy_score(y_test, y_pred)\n",
    "report = classification_report(y_test, y_pred)\n",
    "\n",
    "print(\"Accuracy:\", accuracy)\n",
    "print(\"Classification Report:\\n\", report)\n"
   ],
   "metadata": {
    "collapsed": false,
    "ExecuteTime": {
     "end_time": "2024-05-25T08:25:06.191387100Z",
     "start_time": "2024-05-25T08:25:06.128955300Z"
    }
   },
   "id": "f1f00b72ffa00b49"
  },
  {
   "cell_type": "code",
   "execution_count": null,
   "outputs": [],
   "source": [],
   "metadata": {
    "collapsed": false
   },
   "id": "944bc18f34703ab7"
  }
 ],
 "metadata": {
  "kernelspec": {
   "display_name": "Python 3",
   "language": "python",
   "name": "python3"
  },
  "language_info": {
   "codemirror_mode": {
    "name": "ipython",
    "version": 2
   },
   "file_extension": ".py",
   "mimetype": "text/x-python",
   "name": "python",
   "nbconvert_exporter": "python",
   "pygments_lexer": "ipython2",
   "version": "2.7.6"
  }
 },
 "nbformat": 4,
 "nbformat_minor": 5
}
